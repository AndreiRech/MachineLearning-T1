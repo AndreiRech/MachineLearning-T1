{
 "cells": [
  {
   "cell_type": "markdown",
   "id": "cea5894a-3319-426a-8b5f-28a20a9d1708",
   "metadata": {},
   "source": [
    "# __NAIVE BAYES__"
   ]
  },
  {
   "cell_type": "markdown",
   "id": "79a02e2b-79f2-4801-878a-892c7d8adbc7",
   "metadata": {},
   "source": [
    "***\n",
    "## _Prompts e Respostas_"
   ]
  },
  {
   "cell_type": "markdown",
   "id": "3e5e007b",
   "metadata": {},
   "source": [
    "` Prompt 1 : Necessito que crie um algoritmo para o método de aprendizado supervisionado Naive Bayes na linguagem Python (Jupyter Notebook)`\n",
    "\n",
    "> Claro, vou criar um exemplo simples de implementação do algoritmo Naive Bayes em Python usando Jupyter Notebook. Vou implementar o algoritmo para classificação de texto, utilizando o pacote scikit-learn para facilitar o processo. Este exemplo será para classificação binária, mas pode ser facilmente estendido para classificação multiclasse.\n",
    ">\n",
    "> Primeiro, você precisa ter certeza de que tem o scikit-learn instalado. Se ainda não tiver, pode instalá-lo usando o pip: pip install scikit-learn"
   ]
  },
  {
   "cell_type": "code",
   "execution_count": 2,
   "id": "8ecdbe24",
   "metadata": {},
   "outputs": [
    {
     "name": "stdout",
     "output_type": "stream",
     "text": [
      "Accuracy: 0.5\n",
      "Classification Report:\n",
      "              precision    recall  f1-score   support\n",
      "\n",
      "           0       0.00      0.00      0.00         1\n",
      "           1       0.50      1.00      0.67         1\n",
      "\n",
      "    accuracy                           0.50         2\n",
      "   macro avg       0.25      0.50      0.33         2\n",
      "weighted avg       0.25      0.50      0.33         2\n",
      "\n"
     ]
    },
    {
     "name": "stderr",
     "output_type": "stream",
     "text": [
      "c:\\Python312\\Lib\\site-packages\\sklearn\\metrics\\_classification.py:1509: UndefinedMetricWarning: Precision is ill-defined and being set to 0.0 in labels with no predicted samples. Use `zero_division` parameter to control this behavior.\n",
      "  _warn_prf(average, modifier, f\"{metric.capitalize()} is\", len(result))\n",
      "c:\\Python312\\Lib\\site-packages\\sklearn\\metrics\\_classification.py:1509: UndefinedMetricWarning: Precision is ill-defined and being set to 0.0 in labels with no predicted samples. Use `zero_division` parameter to control this behavior.\n",
      "  _warn_prf(average, modifier, f\"{metric.capitalize()} is\", len(result))\n",
      "c:\\Python312\\Lib\\site-packages\\sklearn\\metrics\\_classification.py:1509: UndefinedMetricWarning: Precision is ill-defined and being set to 0.0 in labels with no predicted samples. Use `zero_division` parameter to control this behavior.\n",
      "  _warn_prf(average, modifier, f\"{metric.capitalize()} is\", len(result))\n"
     ]
    }
   ],
   "source": [
    "from sklearn.feature_extraction.text import CountVectorizer\n",
    "from sklearn.naive_bayes import MultinomialNB\n",
    "from sklearn.model_selection import train_test_split\n",
    "from sklearn.metrics import accuracy_score, classification_report\n",
    "\n",
    "# Dados de exemplo\n",
    "texts = [\"good movie\", \"bad movie\", \"not a good movie\", \"did not like\", \"liked it\", \"awesome movie\"]\n",
    "\n",
    "# Labels correspondentes (1 para positivo e 0 para negativo)\n",
    "labels = [1, 0, 1, 0, 1, 1]\n",
    "\n",
    "# Vetorização dos textos\n",
    "vectorizer = CountVectorizer()\n",
    "X = vectorizer.fit_transform(texts)\n",
    "\n",
    "# Divisão dos dados em conjunto de treinamento e teste\n",
    "X_train, X_test, y_train, y_test = train_test_split(X, labels, test_size=0.2, random_state=42)\n",
    "\n",
    "# Criação do classificador Naive Bayes\n",
    "clf = MultinomialNB()\n",
    "\n",
    "# Treinamento do classificador\n",
    "clf.fit(X_train, y_train)\n",
    "\n",
    "# Predição nos dados de teste\n",
    "y_pred = clf.predict(X_test)\n",
    "\n",
    "# Avaliação do desempenho\n",
    "print(\"Accuracy:\", accuracy_score(y_test, y_pred))\n",
    "print(\"Classification Report:\")\n",
    "print(classification_report(y_test, y_pred))\n"
   ]
  },
  {
   "cell_type": "markdown",
   "id": "e430ea8e",
   "metadata": {},
   "source": [
    "> Este código cria um classificador Naive Bayes usando o modelo MultinomialNB do scikit-learn. Ele usa um vetorizador de contagem para converter os textos em vetores numéricos que o algoritmo pode entender. Depois, divide os dados em conjuntos de treinamento e teste, treina o modelo e avalia sua precisão usando a acurácia e o relatório de classificação."
   ]
  },
  {
   "cell_type": "markdown",
   "id": "6ab07129",
   "metadata": {},
   "source": [
    "***\n",
    "`Prompt 2 : Preciso que me forneça avaliação de seus resultados com matriz de confusão, acurácia, recall, precisão e f1-score. E para isto utilize datasets do Penguins com o algoritmo Naive Bayes`\n",
    "\n",
    "> Para usar o conjunto de dados de pinguins (penguins), precisaremos importar o conjunto de dados e ajustar o código anterior para usá-lo. Além disso, vamos calcular a matriz de confusão, a acurácia, o recall, a precisão e o F1-score para avaliar os resultados. Vamos lá:"
   ]
  },
  {
   "cell_type": "code",
   "execution_count": 3,
   "id": "b26290c4",
   "metadata": {},
   "outputs": [
    {
     "name": "stdout",
     "output_type": "stream",
     "text": [
      "Accuracy: 0.8955223880597015\n",
      "Classification Report:\n",
      "              precision    recall  f1-score   support\n",
      "\n",
      "       False       1.00      0.87      0.93        54\n",
      "        True       0.65      1.00      0.79        13\n",
      "\n",
      "    accuracy                           0.90        67\n",
      "   macro avg       0.82      0.94      0.86        67\n",
      "weighted avg       0.93      0.90      0.90        67\n",
      "\n",
      "Confusion Matrix:\n",
      "[[47  7]\n",
      " [ 0 13]]\n"
     ]
    }
   ],
   "source": [
    "import seaborn as sns\n",
    "import pandas as pd\n",
    "from sklearn.datasets import load_iris\n",
    "from sklearn.naive_bayes import GaussianNB\n",
    "from sklearn.model_selection import train_test_split\n",
    "from sklearn.metrics import accuracy_score, classification_report, confusion_matrix\n",
    "\n",
    "# Carregar conjunto de dados de pinguins\n",
    "penguins = sns.load_dataset(\"penguins\")\n",
    "\n",
    "# Remover linhas com valores ausentes\n",
    "penguins = penguins.dropna()\n",
    "\n",
    "# Converter variáveis categóricas em variáveis dummy\n",
    "penguins = pd.get_dummies(penguins, drop_first=True)\n",
    "\n",
    "# Separar variáveis independentes (features) e variável dependente (target)\n",
    "X = penguins.drop('species_Chinstrap', axis=1)  # Chinstrap será nossa classe positiva\n",
    "y = penguins['species_Chinstrap']\n",
    "\n",
    "# Dividir os dados em conjunto de treinamento e teste\n",
    "X_train, X_test, y_train, y_test = train_test_split(X, y, test_size=0.2, random_state=42)\n",
    "\n",
    "# Criação do classificador Naive Bayes\n",
    "clf = GaussianNB()\n",
    "\n",
    "# Treinamento do classificador\n",
    "clf.fit(X_train, y_train)\n",
    "\n",
    "# Predição nos dados de teste\n",
    "y_pred = clf.predict(X_test)\n",
    "\n",
    "# Avaliação do desempenho\n",
    "print(\"Accuracy:\", accuracy_score(y_test, y_pred))\n",
    "print(\"Classification Report:\")\n",
    "print(classification_report(y_test, y_pred))\n",
    "\n",
    "# Matriz de confusão\n",
    "conf_matrix = confusion_matrix(y_test, y_pred)\n",
    "print(\"Confusion Matrix:\")\n",
    "print(conf_matrix)\n"
   ]
  },
  {
   "cell_type": "markdown",
   "id": "99348915",
   "metadata": {},
   "source": [
    "> Neste exemplo, usamos o conjunto de dados de pinguins e removemos qualquer linha que contenha valores ausentes. Em seguida, convertemos as variáveis categóricas em variáveis dummy. Depois, dividimos os dados em conjunto de treinamento e teste.\n",
    ">\n",
    ">O modelo Naive Bayes usado aqui é o GaussianNB, que assume que as características seguem uma distribuição gaussiana.\n",
    ">\n",
    ">Finalmente, avaliamos o desempenho do modelo usando acurácia, recall, precisão, F1-score e matriz de confusão."
   ]
  },
  {
   "cell_type": "markdown",
   "id": "ecef57b4",
   "metadata": {},
   "source": [
    "***\n",
    "`Prompt 3 : Evite utilizar bibliotecas com implementações prontas (como o scikit-learn) e busque utilizar somente auxiliares para a computação vetorial (por exemplo, numpy)`\n",
    "\n",
    "> Entendi, podemos implementar um classificador Naive Bayes do zero usando apenas o numpy para computação vetorial. Vou adaptar o exemplo anterior para atender a essa exigência:"
   ]
  },
  {
   "cell_type": "code",
   "execution_count": 5,
   "id": "b15dd933",
   "metadata": {},
   "outputs": [
    {
     "name": "stdout",
     "output_type": "stream",
     "text": [
      "Accuracy: 0.8059701492537313\n"
     ]
    },
    {
     "name": "stderr",
     "output_type": "stream",
     "text": [
      "C:\\Users\\vtz_f\\AppData\\Local\\Temp\\ipykernel_28296\\2285532497.py:20: RuntimeWarning: invalid value encountered in scalar divide\n",
      "  exponent = np.exp(-((x - mean) ** 2 / (2 * stdev ** 2)))\n",
      "C:\\Users\\vtz_f\\AppData\\Local\\Temp\\ipykernel_28296\\2285532497.py:21: RuntimeWarning: divide by zero encountered in scalar divide\n",
      "  return (1 / (np.sqrt(2 * np.pi) * stdev)) * exponent\n",
      "C:\\Users\\vtz_f\\AppData\\Local\\Temp\\ipykernel_28296\\2285532497.py:20: RuntimeWarning: divide by zero encountered in scalar divide\n",
      "  exponent = np.exp(-((x - mean) ** 2 / (2 * stdev ** 2)))\n",
      "C:\\Users\\vtz_f\\AppData\\Local\\Temp\\ipykernel_28296\\2285532497.py:21: RuntimeWarning: invalid value encountered in scalar multiply\n",
      "  return (1 / (np.sqrt(2 * np.pi) * stdev)) * exponent\n"
     ]
    }
   ],
   "source": [
    "import numpy as np\n",
    "import pandas as pd\n",
    "\n",
    "def train_naive_bayes(X_train, y_train):\n",
    "    # Separar dados por classe\n",
    "    separated = {}\n",
    "    for i in range(len(X_train)):\n",
    "        if y_train[i] not in separated:\n",
    "            separated[y_train[i]] = []\n",
    "        separated[y_train[i]].append(X_train[i])\n",
    "\n",
    "    # Calcular médias e desvios padrão para cada classe e feature\n",
    "    summaries = {}\n",
    "    for class_value, instances in separated.items():\n",
    "        summaries[class_value] = [(np.mean(feature), np.std(feature)) for feature in zip(*instances)]\n",
    "\n",
    "    return summaries\n",
    "\n",
    "def calculate_probability(x, mean, stdev):\n",
    "    exponent = np.exp(-((x - mean) ** 2 / (2 * stdev ** 2)))\n",
    "    return (1 / (np.sqrt(2 * np.pi) * stdev)) * exponent\n",
    "\n",
    "def predict(summaries, input_vector):\n",
    "    probabilities = {}\n",
    "    for class_value, class_summaries in summaries.items():\n",
    "        probabilities[class_value] = 1\n",
    "        for i in range(len(class_summaries)):\n",
    "            mean, stdev = class_summaries[i]\n",
    "            x = input_vector[i]\n",
    "            probabilities[class_value] *= calculate_probability(x, mean, stdev)\n",
    "    return max(probabilities, key=probabilities.get)\n",
    "\n",
    "def accuracy(y_true, y_pred):\n",
    "    correct = 0\n",
    "    for i in range(len(y_true)):\n",
    "        if y_true[i] == y_pred[i]:\n",
    "            correct += 1\n",
    "    return correct / float(len(y_true))\n",
    "\n",
    "# Carregar conjunto de dados de pinguins\n",
    "penguins = sns.load_dataset(\"penguins\")\n",
    "\n",
    "# Remover linhas com valores ausentes\n",
    "penguins = penguins.dropna()\n",
    "\n",
    "# Converter variáveis categóricas em variáveis dummy\n",
    "penguins = pd.get_dummies(penguins, drop_first=True)\n",
    "\n",
    "# Separar variáveis independentes (features) e variável dependente (target)\n",
    "X = penguins.drop('species_Chinstrap', axis=1)  # Chinstrap será nossa classe positiva\n",
    "y = penguins['species_Chinstrap']\n",
    "\n",
    "# Dividir os dados em conjunto de treinamento e teste\n",
    "X_train, X_test, y_train, y_test = train_test_split(X, y, test_size=0.2, random_state=42)\n",
    "\n",
    "# Treinar modelo\n",
    "model = train_naive_bayes(X_train.to_numpy(), y_train.to_numpy())\n",
    "\n",
    "# Fazer previsões\n",
    "predictions = []\n",
    "for i in range(len(X_test)):\n",
    "    result = predict(model, X_test.iloc[i].to_numpy())\n",
    "    predictions.append(result)\n",
    "\n",
    "# Avaliar o modelo\n",
    "acc = accuracy(y_test.to_numpy(), predictions)\n",
    "print(\"Accuracy:\", acc)\n"
   ]
  },
  {
   "cell_type": "markdown",
   "id": "2afb9831",
   "metadata": {},
   "source": [
    "> Neste código, implementamos o algoritmo Naive Bayes do zero. Começamos definindo funções para treinar o modelo, calcular probabilidades, fazer previsões e calcular a acurácia. Em seguida, carregamos o conjunto de dados de pinguins, processamos e dividimos em conjunto de treinamento e teste. Então, treinamos o modelo usando o conjunto de treinamento e fazemos previsões com o conjunto de teste. Por fim, avaliamos a acurácia do modelo."
   ]
  },
  {
   "cell_type": "markdown",
   "id": "f5daa459",
   "metadata": {},
   "source": [
    "***\n",
    "`Prompt 4 : Necessito que avalie os resultados com matriz de confusão, acurácia, recall, precisão e f1-score`\n",
    "\n",
    "> Entendi, para calcular a matriz de confusão, acurácia, recall, precisão e F1-score, podemos estender a implementação do algoritmo Naive Bayes. Vou adicionar essas métricas ao código anterior:"
   ]
  },
  {
   "cell_type": "code",
   "execution_count": 6,
   "id": "8a7e58f8",
   "metadata": {},
   "outputs": [
    {
     "name": "stdout",
     "output_type": "stream",
     "text": [
      "Confusion Matrix:\n",
      "[[54.  0.]\n",
      " [13.  0.]]\n",
      "Accuracy: 0.8059701492537313\n",
      "Precision: nan\n",
      "Recall: 0.5\n",
      "F1-score: nan\n"
     ]
    },
    {
     "name": "stderr",
     "output_type": "stream",
     "text": [
      "C:\\Users\\vtz_f\\AppData\\Local\\Temp\\ipykernel_28296\\2285532497.py:20: RuntimeWarning: invalid value encountered in scalar divide\n",
      "  exponent = np.exp(-((x - mean) ** 2 / (2 * stdev ** 2)))\n",
      "C:\\Users\\vtz_f\\AppData\\Local\\Temp\\ipykernel_28296\\2285532497.py:21: RuntimeWarning: divide by zero encountered in scalar divide\n",
      "  return (1 / (np.sqrt(2 * np.pi) * stdev)) * exponent\n",
      "C:\\Users\\vtz_f\\AppData\\Local\\Temp\\ipykernel_28296\\2285532497.py:20: RuntimeWarning: divide by zero encountered in scalar divide\n",
      "  exponent = np.exp(-((x - mean) ** 2 / (2 * stdev ** 2)))\n",
      "C:\\Users\\vtz_f\\AppData\\Local\\Temp\\ipykernel_28296\\2285532497.py:21: RuntimeWarning: invalid value encountered in scalar multiply\n",
      "  return (1 / (np.sqrt(2 * np.pi) * stdev)) * exponent\n",
      "C:\\Users\\vtz_f\\AppData\\Local\\Temp\\ipykernel_28296\\3446545722.py:15: RuntimeWarning: invalid value encountered in divide\n",
      "  precision = tp / (tp + fp)\n"
     ]
    }
   ],
   "source": [
    "def confusion_matrix(y_true, y_pred):\n",
    "    classes = np.unique(np.concatenate((y_true, y_pred)))\n",
    "    matrix = np.zeros((len(classes), len(classes)))\n",
    "    for i in range(len(classes)):\n",
    "        for j in range(len(classes)):\n",
    "            matrix[i,j] = np.sum((y_true == classes[i]) & (y_pred == classes[j]))\n",
    "    return matrix\n",
    "\n",
    "def precision_recall_f1(y_true, y_pred):\n",
    "    cm = confusion_matrix(y_true, y_pred)\n",
    "    tp = np.diag(cm)\n",
    "    fp = np.sum(cm, axis=0) - tp\n",
    "    fn = np.sum(cm, axis=1) - tp\n",
    "\n",
    "    precision = tp / (tp + fp)\n",
    "    recall = tp / (tp + fn)\n",
    "    f1 = 2 * precision * recall / (precision + recall)\n",
    "\n",
    "    return precision, recall, f1\n",
    "\n",
    "# Fazer previsões\n",
    "predictions = []\n",
    "for i in range(len(X_test)):\n",
    "    result = predict(model, X_test.iloc[i].to_numpy())\n",
    "    predictions.append(result)\n",
    "\n",
    "# Avaliar o modelo\n",
    "cm = confusion_matrix(y_test.to_numpy(), np.array(predictions))\n",
    "acc = accuracy(y_test.to_numpy(), np.array(predictions))\n",
    "precision, recall, f1 = precision_recall_f1(y_test.to_numpy(), np.array(predictions))\n",
    "\n",
    "print(\"Confusion Matrix:\")\n",
    "print(cm)\n",
    "print(\"Accuracy:\", acc)\n",
    "print(\"Precision:\", np.mean(precision))\n",
    "print(\"Recall:\", np.mean(recall))\n",
    "print(\"F1-score:\", np.mean(f1))\n"
   ]
  },
  {
   "cell_type": "markdown",
   "id": "d00a50b9",
   "metadata": {},
   "source": [
    "> Agora, após fazer previsões com o modelo, calculamos a matriz de confusão, acurácia, precisão, recall e F1-score usando as funções definidas anteriormente. Essas métricas nos darão uma visão mais completa do desempenho do modelo Naive Bayes."
   ]
  },
  {
   "cell_type": "markdown",
   "id": "51e54060-1b47-4b55-86cf-4c1b4a12aaf9",
   "metadata": {},
   "source": [
    "***\n",
    "## _Aplicando o Código_"
   ]
  },
  {
   "cell_type": "markdown",
   "id": "b7d1e1b2-c7b5-4f0f-b64b-b63836651c78",
   "metadata": {},
   "source": [
    "***\n",
    "## _Análise e Considerações_"
   ]
  },
  {
   "cell_type": "code",
   "execution_count": null,
   "id": "7c355814-bd7e-4777-9cb4-734daa7da2e6",
   "metadata": {},
   "outputs": [],
   "source": []
  }
 ],
 "metadata": {
  "kernelspec": {
   "display_name": "Python 3 (ipykernel)",
   "language": "python",
   "name": "python3"
  },
  "language_info": {
   "codemirror_mode": {
    "name": "ipython",
    "version": 3
   },
   "file_extension": ".py",
   "mimetype": "text/x-python",
   "name": "python",
   "nbconvert_exporter": "python",
   "pygments_lexer": "ipython3",
   "version": "3.12.2"
  }
 },
 "nbformat": 4,
 "nbformat_minor": 5
}
