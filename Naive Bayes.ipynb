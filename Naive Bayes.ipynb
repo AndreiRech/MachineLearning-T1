{
 "cells": [
  {
   "cell_type": "markdown",
   "id": "cea5894a-3319-426a-8b5f-28a20a9d1708",
   "metadata": {},
   "source": [
    "# __NAIVE BAYES__"
   ]
  },
  {
   "cell_type": "markdown",
   "id": "79a02e2b-79f2-4801-878a-892c7d8adbc7",
   "metadata": {},
   "source": [
    "***\n",
    "## _Prompts e Respostas_"
   ]
  },
  {
   "cell_type": "markdown",
   "id": "51e54060-1b47-4b55-86cf-4c1b4a12aaf9",
   "metadata": {},
   "source": [
    "***\n",
    "## _Aplicando o Código_"
   ]
  },
  {
   "cell_type": "markdown",
   "id": "b7d1e1b2-c7b5-4f0f-b64b-b63836651c78",
   "metadata": {},
   "source": [
    "***\n",
    "## _Análise e Considerações_"
   ]
  },
  {
   "cell_type": "code",
   "execution_count": null,
   "id": "7c355814-bd7e-4777-9cb4-734daa7da2e6",
   "metadata": {},
   "outputs": [],
   "source": []
  }
 ],
 "metadata": {
  "kernelspec": {
   "display_name": "Python 3 (ipykernel)",
   "language": "python",
   "name": "python3"
  },
  "language_info": {
   "codemirror_mode": {
    "name": "ipython",
    "version": 3
   },
   "file_extension": ".py",
   "mimetype": "text/x-python",
   "name": "python",
   "nbconvert_exporter": "python",
   "pygments_lexer": "ipython3",
   "version": "3.10.6"
  }
 },
 "nbformat": 4,
 "nbformat_minor": 5
}
